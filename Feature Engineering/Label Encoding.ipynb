{
 "cells": [
  {
   "cell_type": "markdown",
   "id": "5386f8cd-f30f-4bfb-8578-653b284c3542",
   "metadata": {},
   "source": [
    "Label Encoding"
   ]
  },
  {
   "cell_type": "code",
   "execution_count": 2,
   "id": "91bf6ec6-0284-4d50-aa9d-ea48478844b9",
   "metadata": {},
   "outputs": [],
   "source": [
    "classes = ['classA','classB','classC','classD']\n",
    "instances = ['ClassA', 'ClassB', 'ClassC', 'ClassD', 'ClassA', 'ClassB', 'ClassC', 'ClassD', 'ClassA', 'ClassB']"
   ]
  },
  {
   "cell_type": "markdown",
   "id": "271e823a-1ec3-4126-9263-a5165c6dba75",
   "metadata": {},
   "source": [
    "Sklearn - Label Encoder"
   ]
  },
  {
   "cell_type": "code",
   "execution_count": 3,
   "id": "ed41dbb1-acd4-4a4a-8271-16b2f28c13c6",
   "metadata": {},
   "outputs": [],
   "source": [
    "from sklearn.preprocessing import LabelEncoder"
   ]
  },
  {
   "cell_type": "code",
   "execution_count": 4,
   "id": "2b7ae11e-83c3-4bd5-93e9-4d59714091bd",
   "metadata": {},
   "outputs": [
    {
     "name": "stdout",
     "output_type": "stream",
     "text": [
      "Encoded labels :  [0 1 2 3 0 1 2 3 0 1]\n"
     ]
    }
   ],
   "source": [
    "label_encoder = LabelEncoder()\n",
    "encoded_labels = label_encoder.fit_transform(instances)\n",
    "print(\"Encoded labels : \",encoded_labels);"
   ]
  },
  {
   "cell_type": "code",
   "execution_count": 6,
   "id": "382bebcf-9f9a-4b25-9048-b0a324017157",
   "metadata": {},
   "outputs": [
    {
     "name": "stdout",
     "output_type": "stream",
     "text": [
      "Original Labels : ['ClassA' 'ClassB' 'ClassC' 'ClassD' 'ClassA' 'ClassB' 'ClassC' 'ClassD'\n",
      " 'ClassA' 'ClassB']\n"
     ]
    }
   ],
   "source": [
    "original_labels = label_encoder.inverse_transform(encoded_labels)\n",
    "print(\"Original Labels :\",original_labels)"
   ]
  }
 ],
 "metadata": {
  "kernelspec": {
   "display_name": "Python 3 (ipykernel)",
   "language": "python",
   "name": "python3"
  },
  "language_info": {
   "codemirror_mode": {
    "name": "ipython",
    "version": 3
   },
   "file_extension": ".py",
   "mimetype": "text/x-python",
   "name": "python",
   "nbconvert_exporter": "python",
   "pygments_lexer": "ipython3",
   "version": "3.10.16"
  }
 },
 "nbformat": 4,
 "nbformat_minor": 5
}
