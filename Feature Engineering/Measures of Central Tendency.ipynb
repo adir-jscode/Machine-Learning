{
 "cells": [
  {
   "cell_type": "code",
   "execution_count": 27,
   "id": "71f19e0f-c0c0-49f1-a10a-4c7953a84b49",
   "metadata": {},
   "outputs": [],
   "source": [
    "ages = [21,25,19,19,25,22,24,24,27,34,77,99]"
   ]
  },
  {
   "cell_type": "code",
   "execution_count": 28,
   "id": "b714fae1-d9bb-415a-9f63-938e43054042",
   "metadata": {},
   "outputs": [
    {
     "data": {
      "text/plain": [
       "34.666666666666664"
      ]
     },
     "execution_count": 28,
     "metadata": {},
     "output_type": "execute_result"
    }
   ],
   "source": [
    "mean_age = sum(ages)/len(ages)\n",
    "mean_age"
   ]
  },
  {
   "cell_type": "code",
   "execution_count": 57,
   "id": "9516668c-6668-4966-bac7-e5ee3221555c",
   "metadata": {},
   "outputs": [
    {
     "name": "stdout",
     "output_type": "stream",
     "text": [
      "Sorted Ages =  [19, 19, 21, 22, 24, 24, 25, 25, 27, 34, 77, 99]\n",
      "Length =  12\n",
      "median =  6\n",
      "Median AGE =  24.5\n",
      "First 24\n",
      "First 25\n",
      "24.5\n"
     ]
    }
   ],
   "source": [
    "sorted_ages = sorted(ages)\n",
    "print(\"Sorted Ages = \", sorted_ages)\n",
    "length = len(ages)\n",
    "print(\"Length = \", length)\n",
    "median = length//2\n",
    "print(\"median = \", median)\n",
    "median_age = (sorted_ages[length//2] if length % 2 !=0 else (sorted_ages[length//2 -1] + sorted_ages[length//2])/2)\n",
    "print(\"Median AGE = \", median_age)\n",
    "\n",
    "first = sorted_ages[length//2 -1]\n",
    "print(\"First\",first)\n",
    "first2 = sorted_ages[length//2]\n",
    "print(\"First\",first2)\n",
    "\n",
    "result = (sorted_ages[length//2 -1] + sorted_ages[length//2])/2\n",
    "print(result)"
   ]
  },
  {
   "cell_type": "code",
   "execution_count": 46,
   "id": "018ac296-fe73-419b-8233-edb68bf118f2",
   "metadata": {},
   "outputs": [
    {
     "name": "stdout",
     "output_type": "stream",
     "text": [
      "Counter({25: 2, 19: 2, 24: 2, 21: 1, 22: 1, 27: 1, 34: 1, 77: 1, 99: 1})\n",
      "dict_values([1, 2, 2, 1, 2, 1, 1, 1, 1])\n",
      "2\n",
      "[25, 19, 24]\n"
     ]
    }
   ],
   "source": [
    "from collections import Counter\n",
    "\n",
    "mode_data = Counter(ages)\n",
    "print(mode_data)\n",
    "print(mode_data.values())\n",
    "max_frequency = max(mode_data.values())\n",
    "print(max_frequency)\n",
    "modes = [k for k , v in mode_data.items() if v == max_frequency]\n",
    "print(modes)"
   ]
  },
  {
   "cell_type": "markdown",
   "id": "c55eb6ec-4d7d-4bc7-bc6e-960e391dace9",
   "metadata": {},
   "source": [
    "Pandas"
   ]
  },
  {
   "cell_type": "code",
   "execution_count": 48,
   "id": "0f191fd3-346b-474f-ab7c-88cd417e8130",
   "metadata": {},
   "outputs": [],
   "source": [
    "import pandas as pd"
   ]
  },
  {
   "cell_type": "code",
   "execution_count": 51,
   "id": "ccd47fc1-8c61-4b00-9988-5f5efde45234",
   "metadata": {},
   "outputs": [
    {
     "data": {
      "text/html": [
       "<div>\n",
       "<style scoped>\n",
       "    .dataframe tbody tr th:only-of-type {\n",
       "        vertical-align: middle;\n",
       "    }\n",
       "\n",
       "    .dataframe tbody tr th {\n",
       "        vertical-align: top;\n",
       "    }\n",
       "\n",
       "    .dataframe thead th {\n",
       "        text-align: right;\n",
       "    }\n",
       "</style>\n",
       "<table border=\"1\" class=\"dataframe\">\n",
       "  <thead>\n",
       "    <tr style=\"text-align: right;\">\n",
       "      <th></th>\n",
       "      <th>Age</th>\n",
       "    </tr>\n",
       "  </thead>\n",
       "  <tbody>\n",
       "    <tr>\n",
       "      <th>0</th>\n",
       "      <td>21</td>\n",
       "    </tr>\n",
       "    <tr>\n",
       "      <th>1</th>\n",
       "      <td>25</td>\n",
       "    </tr>\n",
       "    <tr>\n",
       "      <th>2</th>\n",
       "      <td>19</td>\n",
       "    </tr>\n",
       "    <tr>\n",
       "      <th>3</th>\n",
       "      <td>19</td>\n",
       "    </tr>\n",
       "    <tr>\n",
       "      <th>4</th>\n",
       "      <td>25</td>\n",
       "    </tr>\n",
       "    <tr>\n",
       "      <th>5</th>\n",
       "      <td>22</td>\n",
       "    </tr>\n",
       "    <tr>\n",
       "      <th>6</th>\n",
       "      <td>24</td>\n",
       "    </tr>\n",
       "    <tr>\n",
       "      <th>7</th>\n",
       "      <td>24</td>\n",
       "    </tr>\n",
       "    <tr>\n",
       "      <th>8</th>\n",
       "      <td>27</td>\n",
       "    </tr>\n",
       "    <tr>\n",
       "      <th>9</th>\n",
       "      <td>34</td>\n",
       "    </tr>\n",
       "    <tr>\n",
       "      <th>10</th>\n",
       "      <td>77</td>\n",
       "    </tr>\n",
       "    <tr>\n",
       "      <th>11</th>\n",
       "      <td>99</td>\n",
       "    </tr>\n",
       "  </tbody>\n",
       "</table>\n",
       "</div>"
      ],
      "text/plain": [
       "    Age\n",
       "0    21\n",
       "1    25\n",
       "2    19\n",
       "3    19\n",
       "4    25\n",
       "5    22\n",
       "6    24\n",
       "7    24\n",
       "8    27\n",
       "9    34\n",
       "10   77\n",
       "11   99"
      ]
     },
     "execution_count": 51,
     "metadata": {},
     "output_type": "execute_result"
    }
   ],
   "source": [
    "df = pd.DataFrame(ages,columns=[\"Age\"])\n",
    "df"
   ]
  },
  {
   "cell_type": "code",
   "execution_count": 72,
   "id": "72ab37a8-4158-4def-b561-e3a818e27474",
   "metadata": {},
   "outputs": [
    {
     "data": {
      "text/plain": [
       "np.float64(24.5)"
      ]
     },
     "execution_count": 72,
     "metadata": {},
     "output_type": "execute_result"
    }
   ],
   "source": [
    "df.Age.median()"
   ]
  },
  {
   "cell_type": "code",
   "execution_count": 74,
   "id": "2af1b91b-1bca-418b-ba1b-c5331c4a5bf3",
   "metadata": {},
   "outputs": [
    {
     "data": {
      "text/plain": [
       "0    19\n",
       "1    24\n",
       "2    25\n",
       "Name: Age, dtype: int64"
      ]
     },
     "execution_count": 74,
     "metadata": {},
     "output_type": "execute_result"
    }
   ],
   "source": [
    "df.Age.mode()"
   ]
  },
  {
   "cell_type": "code",
   "execution_count": 75,
   "id": "20fc855a-723f-4a6a-8e45-1d747b2f9ce2",
   "metadata": {},
   "outputs": [
    {
     "data": {
      "text/plain": [
       "np.float64(34.666666666666664)"
      ]
     },
     "execution_count": 75,
     "metadata": {},
     "output_type": "execute_result"
    }
   ],
   "source": [
    "df.Age.mean()"
   ]
  }
 ],
 "metadata": {
  "kernelspec": {
   "display_name": "Python 3 (ipykernel)",
   "language": "python",
   "name": "python3"
  },
  "language_info": {
   "codemirror_mode": {
    "name": "ipython",
    "version": 3
   },
   "file_extension": ".py",
   "mimetype": "text/x-python",
   "name": "python",
   "nbconvert_exporter": "python",
   "pygments_lexer": "ipython3",
   "version": "3.10.16"
  }
 },
 "nbformat": 4,
 "nbformat_minor": 5
}
