{
 "cells": [
  {
   "cell_type": "code",
   "execution_count": 2,
   "id": "de84521f",
   "metadata": {},
   "outputs": [],
   "source": [
    "import os\n",
    "import cv2\n",
    "import numpy as np\n",
    "from sklearn.model_selection import train_test_split\n",
    "from tensorflow.keras.utils import to_categorical"
   ]
  },
  {
   "cell_type": "code",
   "execution_count": 8,
   "id": "37bf9026",
   "metadata": {},
   "outputs": [
    {
     "name": "stdout",
     "output_type": "stream",
     "text": [
      "Warning: Directory C:\\Downloads\\trafic-signal-dataset\\Train\\0 does not exist!\n",
      "Warning: Directory C:\\Downloads\\trafic-signal-dataset\\Train\\1 does not exist!\n",
      "Warning: Directory C:\\Downloads\\trafic-signal-dataset\\Train\\2 does not exist!\n",
      "Warning: Directory C:\\Downloads\\trafic-signal-dataset\\Train\\3 does not exist!\n",
      "Warning: Directory C:\\Downloads\\trafic-signal-dataset\\Train\\4 does not exist!\n",
      "Warning: Directory C:\\Downloads\\trafic-signal-dataset\\Train\\5 does not exist!\n",
      "Warning: Directory C:\\Downloads\\trafic-signal-dataset\\Train\\6 does not exist!\n",
      "Warning: Directory C:\\Downloads\\trafic-signal-dataset\\Train\\7 does not exist!\n",
      "Warning: Directory C:\\Downloads\\trafic-signal-dataset\\Train\\8 does not exist!\n",
      "Warning: Directory C:\\Downloads\\trafic-signal-dataset\\Train\\9 does not exist!\n",
      "Warning: Directory C:\\Downloads\\trafic-signal-dataset\\Train\\10 does not exist!\n",
      "Warning: Directory C:\\Downloads\\trafic-signal-dataset\\Train\\11 does not exist!\n",
      "Warning: Directory C:\\Downloads\\trafic-signal-dataset\\Train\\12 does not exist!\n",
      "Warning: Directory C:\\Downloads\\trafic-signal-dataset\\Train\\13 does not exist!\n",
      "Warning: Directory C:\\Downloads\\trafic-signal-dataset\\Train\\14 does not exist!\n",
      "Warning: Directory C:\\Downloads\\trafic-signal-dataset\\Train\\15 does not exist!\n",
      "Warning: Directory C:\\Downloads\\trafic-signal-dataset\\Train\\16 does not exist!\n",
      "Warning: Directory C:\\Downloads\\trafic-signal-dataset\\Train\\17 does not exist!\n",
      "Warning: Directory C:\\Downloads\\trafic-signal-dataset\\Train\\18 does not exist!\n",
      "Warning: Directory C:\\Downloads\\trafic-signal-dataset\\Train\\19 does not exist!\n",
      "Warning: Directory C:\\Downloads\\trafic-signal-dataset\\Train\\20 does not exist!\n",
      "Warning: Directory C:\\Downloads\\trafic-signal-dataset\\Train\\21 does not exist!\n",
      "Warning: Directory C:\\Downloads\\trafic-signal-dataset\\Train\\22 does not exist!\n",
      "Warning: Directory C:\\Downloads\\trafic-signal-dataset\\Train\\23 does not exist!\n",
      "Warning: Directory C:\\Downloads\\trafic-signal-dataset\\Train\\24 does not exist!\n",
      "Warning: Directory C:\\Downloads\\trafic-signal-dataset\\Train\\25 does not exist!\n",
      "Warning: Directory C:\\Downloads\\trafic-signal-dataset\\Train\\26 does not exist!\n",
      "Warning: Directory C:\\Downloads\\trafic-signal-dataset\\Train\\27 does not exist!\n",
      "Warning: Directory C:\\Downloads\\trafic-signal-dataset\\Train\\28 does not exist!\n",
      "Warning: Directory C:\\Downloads\\trafic-signal-dataset\\Train\\29 does not exist!\n",
      "Warning: Directory C:\\Downloads\\trafic-signal-dataset\\Train\\30 does not exist!\n",
      "Warning: Directory C:\\Downloads\\trafic-signal-dataset\\Train\\31 does not exist!\n",
      "Warning: Directory C:\\Downloads\\trafic-signal-dataset\\Train\\32 does not exist!\n",
      "Warning: Directory C:\\Downloads\\trafic-signal-dataset\\Train\\33 does not exist!\n",
      "Warning: Directory C:\\Downloads\\trafic-signal-dataset\\Train\\34 does not exist!\n",
      "Warning: Directory C:\\Downloads\\trafic-signal-dataset\\Train\\35 does not exist!\n",
      "Warning: Directory C:\\Downloads\\trafic-signal-dataset\\Train\\36 does not exist!\n",
      "Warning: Directory C:\\Downloads\\trafic-signal-dataset\\Train\\37 does not exist!\n",
      "Warning: Directory C:\\Downloads\\trafic-signal-dataset\\Train\\38 does not exist!\n",
      "Warning: Directory C:\\Downloads\\trafic-signal-dataset\\Train\\39 does not exist!\n",
      "Warning: Directory C:\\Downloads\\trafic-signal-dataset\\Train\\40 does not exist!\n",
      "Warning: Directory C:\\Downloads\\trafic-signal-dataset\\Train\\41 does not exist!\n",
      "Warning: Directory C:\\Downloads\\trafic-signal-dataset\\Train\\42 does not exist!\n"
     ]
    }
   ],
   "source": [
    "# Define the path to the dataset\n",
    "DATASET_PATH = r'C:\\Downloads\\trafic-signal-dataset\\Train'\n",
    "\n",
    "# Initialize empty lists to store images and labels\n",
    "images = []\n",
    "labels = []\n",
    "\n",
    "# Load the dataset\n",
    "def load_data(dataset_path):\n",
    "    \"\"\"\n",
    "    Loads images and their corresponding labels from the dataset path.\n",
    "    \"\"\"\n",
    "    for class_id in range(43):  # GTSRB dataset has 43 classes\n",
    "        class_path = os.path.join(dataset_path, str(class_id))\n",
    "        # Check if class_path exists\n",
    "        if not os.path.exists(class_path):\n",
    "            print(f\"Warning: Directory {class_path} does not exist!\")\n",
    "            continue\n",
    "        for img_name in os.listdir(class_path):\n",
    "            img_path = os.path.join(class_path, img_name)\n",
    "            # Read the image\n",
    "            image = cv2.imread(img_path)\n",
    "            if image is None:\n",
    "                print(f\"Warning: Could not read image {img_path}\")\n",
    "                continue\n",
    "            # Resize the image to 32x32\n",
    "            image = cv2.resize(image, (32, 32))\n",
    "            images.append(image)\n",
    "            labels.append(class_id)\n",
    "\n",
    "# Load the data\n",
    "load_data(DATASET_PATH)"
   ]
  }
 ],
 "metadata": {
  "kernelspec": {
   "display_name": "alleys",
   "language": "python",
   "name": "alleys"
  },
  "language_info": {
   "codemirror_mode": {
    "name": "ipython",
    "version": 3
   },
   "file_extension": ".py",
   "mimetype": "text/x-python",
   "name": "python",
   "nbconvert_exporter": "python",
   "pygments_lexer": "ipython3",
   "version": "3.8.20"
  }
 },
 "nbformat": 4,
 "nbformat_minor": 5
}
