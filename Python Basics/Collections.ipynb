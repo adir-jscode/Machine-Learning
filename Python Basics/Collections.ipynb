{
 "cells": [
  {
   "cell_type": "code",
   "execution_count": 1,
   "id": "69503a50",
   "metadata": {},
   "outputs": [
    {
     "name": "stdout",
     "output_type": "stream",
     "text": [
      "['a', 'b', 1, 2]\n",
      "(3.3, 4.7, 'c', 'd')\n"
     ]
    }
   ],
   "source": [
    "l = ['a','b',1,2]\n",
    "t = (3.3,4.7,'c','d')\n",
    "\n",
    "print(l)\n",
    "print(t)"
   ]
  },
  {
   "cell_type": "code",
   "execution_count": 2,
   "id": "10371d28",
   "metadata": {},
   "outputs": [
    {
     "name": "stdout",
     "output_type": "stream",
     "text": [
      "1 4.7 4.7\n"
     ]
    }
   ],
   "source": [
    "print(l[2], t[1],t[-3])"
   ]
  },
  {
   "cell_type": "code",
   "execution_count": 3,
   "id": "847eb07e",
   "metadata": {},
   "outputs": [
    {
     "name": "stdout",
     "output_type": "stream",
     "text": [
      "3.3\n",
      "4.7\n",
      "c\n",
      "d\n"
     ]
    }
   ],
   "source": [
    "for i in t:\n",
    "    print(i)"
   ]
  },
  {
   "cell_type": "code",
   "execution_count": 4,
   "id": "b3944561",
   "metadata": {},
   "outputs": [
    {
     "name": "stdout",
     "output_type": "stream",
     "text": [
      "0:a\n",
      "1:b\n",
      "2:1\n",
      "3:2\n"
     ]
    }
   ],
   "source": [
    "for i,v in enumerate(l):\n",
    "    print(f\"{i}:{v}\")"
   ]
  },
  {
   "cell_type": "code",
   "execution_count": 5,
   "id": "f6013f7f",
   "metadata": {},
   "outputs": [
    {
     "name": "stdout",
     "output_type": "stream",
     "text": [
      "['a', 'b', 'c', 'c']\n"
     ]
    }
   ],
   "source": [
    "# Append\n",
    "c = []\n",
    "c.append('a')\n",
    "c.append('b')\n",
    "c.append('c')\n",
    "c.append('c')\n",
    "print(c)"
   ]
  },
  {
   "cell_type": "code",
   "execution_count": 9,
   "id": "72ed5672",
   "metadata": {},
   "outputs": [
    {
     "name": "stdout",
     "output_type": "stream",
     "text": [
      "['a', 'b', 'c', 'c']\n",
      "['a0', 'a', 'b', 'c', 'c']\n",
      "['a0', 'a', 'c', 'c']\n",
      "['a', 'c', 'c']\n"
     ]
    }
   ],
   "source": [
    "# Insert\n",
    "c = ['a', 'b', 'c', 'c']\n",
    "print(c)\n",
    "c.insert(0,'a0')\n",
    "print(c)\n",
    "\n",
    "# Remove\n",
    "c.remove('b')  # remove value\n",
    "print(c)\n",
    "\n",
    "# Remove at index\n",
    "\n",
    "del c[0]\n",
    "print(c)"
   ]
  },
  {
   "cell_type": "code",
   "execution_count": null,
   "id": "18d9ab6c",
   "metadata": {},
   "outputs": [],
   "source": [
    "listOfLists = [\n",
    "    ['a','b','c'],\n",
    "    [1,2,3,4,5,6],\n",
    "    [\"One\",\"Two\"]\n",
    "    \n",
    "]\n",
    "print(listOfLists)"
   ]
  },
  {
   "cell_type": "markdown",
   "id": "7c6bdab9",
   "metadata": {},
   "source": [
    "Sets\n"
   ]
  },
  {
   "cell_type": "code",
   "execution_count": 1,
   "id": "2c80b0da",
   "metadata": {},
   "outputs": [
    {
     "name": "stdout",
     "output_type": "stream",
     "text": [
      "{'MBA', 'BBA', 'ARCHI', 'EEE'} <class 'set'>\n"
     ]
    }
   ],
   "source": [
    "depts = {\"MBA\",\"EEE\",\"BBA\",\"ARCHI\"}\n",
    "print(depts, type(depts))"
   ]
  },
  {
   "cell_type": "code",
   "execution_count": 2,
   "id": "842a8eb5",
   "metadata": {},
   "outputs": [
    {
     "name": "stdout",
     "output_type": "stream",
     "text": [
      "{'ARCHI', 'MBA', 'BBA', 'CS', 'EEE'}\n"
     ]
    }
   ],
   "source": [
    "depts.add(\"CS\")\n",
    "print(depts)"
   ]
  },
  {
   "cell_type": "code",
   "execution_count": 3,
   "id": "4b5afd5e",
   "metadata": {},
   "outputs": [
    {
     "name": "stdout",
     "output_type": "stream",
     "text": [
      "{'MBA', 'BBA', 'CS', 'EEE'}\n"
     ]
    }
   ],
   "source": [
    "depts.remove(\"ARCHI\")\n",
    "print(depts)"
   ]
  },
  {
   "cell_type": "code",
   "execution_count": 4,
   "id": "564825ed",
   "metadata": {},
   "outputs": [
    {
     "data": {
      "text/plain": [
       "True"
      ]
     },
     "execution_count": 4,
     "metadata": {},
     "output_type": "execute_result"
    }
   ],
   "source": [
    "\"CS\" in depts"
   ]
  },
  {
   "cell_type": "code",
   "execution_count": 5,
   "id": "a26c5981",
   "metadata": {},
   "outputs": [
    {
     "data": {
      "text/plain": [
       "False"
      ]
     },
     "execution_count": 5,
     "metadata": {},
     "output_type": "execute_result"
    }
   ],
   "source": [
    "\"ARCHI\" in depts"
   ]
  },
  {
   "cell_type": "markdown",
   "id": "1a724b75",
   "metadata": {},
   "source": [
    "Maps/Dictonaries/Hash Tables\n"
   ]
  },
  {
   "cell_type": "code",
   "execution_count": 6,
   "id": "96b247b3",
   "metadata": {},
   "outputs": [
    {
     "name": "stdout",
     "output_type": "stream",
     "text": [
      "{'mahedi': 93.77, 'rabbi': 94.0, 'ahsan': 92.5} <class 'dict'>\n"
     ]
    }
   ],
   "source": [
    "std = {'mahedi':93.77,'rabbi':94.00,'ahsan':92.5}\n",
    "print(std,type(std))"
   ]
  },
  {
   "cell_type": "code",
   "execution_count": 7,
   "id": "20b5607d",
   "metadata": {},
   "outputs": [
    {
     "name": "stdout",
     "output_type": "stream",
     "text": [
      "94.0\n"
     ]
    }
   ],
   "source": [
    "print(std['rabbi'])"
   ]
  },
  {
   "cell_type": "code",
   "execution_count": 16,
   "id": "7c9bdfac",
   "metadata": {},
   "outputs": [
    {
     "data": {
      "text/plain": [
       "'default'"
      ]
     },
     "execution_count": 16,
     "metadata": {},
     "output_type": "execute_result"
    }
   ],
   "source": [
    "std.get('mahedi','default')\n",
    "std.get('mahed','default')#value doesn't exist then it will print 'default'"
   ]
  },
  {
   "cell_type": "code",
   "execution_count": 19,
   "id": "29feb6ad",
   "metadata": {},
   "outputs": [
    {
     "name": "stdout",
     "output_type": "stream",
     "text": [
      "Keys: dict_keys(['mahedi', 'rabbi', 'ahsan'])\n"
     ]
    }
   ],
   "source": [
    "print(f\"Keys:\",std.keys())"
   ]
  },
  {
   "cell_type": "code",
   "execution_count": 20,
   "id": "0e8f05e1",
   "metadata": {},
   "outputs": [
    {
     "name": "stdout",
     "output_type": "stream",
     "text": [
      "Values: dict_values([93.77, 94.0, 92.5])\n"
     ]
    }
   ],
   "source": [
    "print(f\"Values:\",std.values())"
   ]
  },
  {
   "cell_type": "code",
   "execution_count": 25,
   "id": "5242f4c2",
   "metadata": {},
   "outputs": [
    {
     "name": "stdout",
     "output_type": "stream",
     "text": [
      "person\n",
      "cat\n",
      "dog\n",
      "spider\n"
     ]
    }
   ],
   "source": [
    "d = {'person':2, 'cat':4, 'dog':4,'spider':8}\n",
    "for obj in d:\n",
    "    print(obj)"
   ]
  },
  {
   "cell_type": "code",
   "execution_count": 28,
   "id": "422efdbd",
   "metadata": {},
   "outputs": [
    {
     "name": "stdout",
     "output_type": "stream",
     "text": [
      "A person has 2 legs\n",
      "A cat has 4 legs\n",
      "A dog has 4 legs\n",
      "A spider has 8 legs\n"
     ]
    }
   ],
   "source": [
    "for obj in d:\n",
    "    legs = d[obj]\n",
    "    print('A %s has %d legs' % (obj,legs))"
   ]
  },
  {
   "cell_type": "code",
   "execution_count": 38,
   "id": "2c43249e",
   "metadata": {},
   "outputs": [
    {
     "name": "stdout",
     "output_type": "stream",
     "text": [
      "{'person': 2, 'cat': 4, 'dog': 4, 'spider': 8}\n",
      "dict_items([('person', 2), ('cat', 4), ('dog', 4), ('spider', 8)])\n",
      "A person has 2 legs\n",
      "A cat has 4 legs\n",
      "A dog has 4 legs\n",
      "A spider has 8 legs\n"
     ]
    }
   ],
   "source": [
    "print(d)\n",
    "print(d.items())  #d.items returs list of tuples\n",
    "for obj,legs in d.items():\n",
    "    print('A %s has %d legs' % (obj,legs))"
   ]
  },
  {
   "cell_type": "markdown",
   "id": "bfdec16c",
   "metadata": {},
   "source": [
    "Advance Operations"
   ]
  },
  {
   "cell_type": "code",
   "execution_count": 9,
   "id": "d14845b0",
   "metadata": {},
   "outputs": [
    {
     "name": "stdout",
     "output_type": "stream",
     "text": [
      "[1, 2, 3]\n",
      "[1, 2]\n",
      "[4, 5]\n",
      "[1, 2, 3, 4]\n",
      "[2, 3]\n",
      "[3]\n"
     ]
    }
   ],
   "source": [
    "a = [1,2,3,4,5]\n",
    "print(a[0:3]) # slicing operator\n",
    "print(a[:2])\n",
    "print(a[3:])\n",
    "print(a[:-1])\n",
    "print(a[1:-2])\n",
    "print(a[2:-2])"
   ]
  },
  {
   "cell_type": "code",
   "execution_count": 3,
   "id": "f14c4a65",
   "metadata": {},
   "outputs": [
    {
     "name": "stdout",
     "output_type": "stream",
     "text": [
      "<zip object at 0x00000139B7D4ECC0>\n",
      "[(1, 5), (2, 4), (3, 3), (4, 2), (5, 1)]\n"
     ]
    }
   ],
   "source": [
    "a = [1,2,3,4,5]\n",
    "b= [5,4,3,2,1]\n",
    "print(zip(a,b))\n",
    "zipedList = list(zip(a,b))\n",
    "print(zipedList)"
   ]
  },
  {
   "cell_type": "code",
   "execution_count": 6,
   "id": "88a03a9f",
   "metadata": {},
   "outputs": [
    {
     "name": "stdout",
     "output_type": "stream",
     "text": [
      "1 - 5 ==> -4\n",
      "2 - 4 ==> -2\n",
      "3 - 3 ==> 0\n",
      "4 - 2 ==> 2\n",
      "5 - 1 ==> 4\n"
     ]
    }
   ],
   "source": [
    "for x,y in zipedList: # key,value pair\n",
    "    print(f\"{x} - {y} ==> {x-y}\")"
   ]
  },
  {
   "cell_type": "code",
   "execution_count": 7,
   "id": "746d6eb8",
   "metadata": {},
   "outputs": [
    {
     "name": "stdout",
     "output_type": "stream",
     "text": [
      "[(1, 5), (2, 4), (3, 3)]\n"
     ]
    }
   ],
   "source": [
    "a= [1,2,3,4,5,6]\n",
    "b= [5,4,3]\n",
    "print(list(zip(a,b)))"
   ]
  },
  {
   "cell_type": "code",
   "execution_count": 8,
   "id": "c2e92177",
   "metadata": {},
   "outputs": [
    {
     "name": "stdout",
     "output_type": "stream",
     "text": [
      "[0, 1, 4, 9, 16, 25, 36, 49, 64, 81]\n"
     ]
    }
   ],
   "source": [
    "# Avoid doing this\n",
    "\n",
    "arr1 = [0,1,2,3,4,5,6,7,8,9]\n",
    "arr2 = []\n",
    "\n",
    "for number in arr1:\n",
    "    arr2.append(number **2)\n",
    "    \n",
    "print(arr2)"
   ]
  },
  {
   "cell_type": "markdown",
   "id": "e932bb07",
   "metadata": {},
   "source": [
    "List Comprehension"
   ]
  },
  {
   "cell_type": "code",
   "execution_count": 10,
   "id": "2799ff9a",
   "metadata": {},
   "outputs": [
    {
     "name": "stdout",
     "output_type": "stream",
     "text": [
      "[0, 1, 2, 3, 4, 5, 6, 7, 8, 9]\n"
     ]
    }
   ],
   "source": [
    "arr1 = [0,1,2,3,4,5,6,7,8,9]\n",
    "arr1_copy= [i for i in arr1]\n",
    "print(arr1_copy)"
   ]
  },
  {
   "cell_type": "code",
   "execution_count": 11,
   "id": "3ab953d2",
   "metadata": {},
   "outputs": [
    {
     "name": "stdout",
     "output_type": "stream",
     "text": [
      "[0, 1, 4, 9, 16, 25, 36, 49, 64, 81]\n"
     ]
    }
   ],
   "source": [
    "sq = [a**2 for a in arr1]\n",
    "print(sq)"
   ]
  },
  {
   "cell_type": "code",
   "execution_count": 13,
   "id": "7eb86e15",
   "metadata": {},
   "outputs": [
    {
     "name": "stdout",
     "output_type": "stream",
     "text": [
      "[1, 9, 25, 49, 81]\n"
     ]
    }
   ],
   "source": [
    "sq_even = [a**2 for a in arr1 if a%2 !=0]\n",
    "print(sq_even)"
   ]
  },
  {
   "cell_type": "code",
   "execution_count": 14,
   "id": "191d2c43",
   "metadata": {},
   "outputs": [
    {
     "name": "stdout",
     "output_type": "stream",
     "text": [
      "{(0, 0): (0, 0), (1, 1): (1, 1), (2, 2): (2, 4), (3, 3): (3, 9), (4, 4): (4, 16), (5, 5): (5, 25), (6, 6): (6, 36), (7, 7): (7, 49), (8, 8): (8, 64), (9, 9): (9, 81), (10, 10): (10, 100), (11, 11): (11, 121), (12, 12): (12, 144), (13, 13): (13, 169), (14, 14): (14, 196), (15, 15): (15, 225), (16, 16): (16, 256), (17, 17): (17, 289), (18, 18): (18, 324), (19, 19): (19, 361)}\n"
     ]
    }
   ],
   "source": [
    "d = {(a,a): (a,a**2) for a in range(20)}\n",
    "print(d)"
   ]
  },
  {
   "cell_type": "code",
   "execution_count": 15,
   "id": "2670dfdb",
   "metadata": {},
   "outputs": [
    {
     "name": "stdout",
     "output_type": "stream",
     "text": [
      "(5, 25)\n"
     ]
    }
   ],
   "source": [
    "print(d[5,5])"
   ]
  }
 ],
 "metadata": {
  "kernelspec": {
   "display_name": "alleys",
   "language": "python",
   "name": "alleys"
  },
  "language_info": {
   "codemirror_mode": {
    "name": "ipython",
    "version": 3
   },
   "file_extension": ".py",
   "mimetype": "text/x-python",
   "name": "python",
   "nbconvert_exporter": "python",
   "pygments_lexer": "ipython3",
   "version": "3.8.20"
  }
 },
 "nbformat": 4,
 "nbformat_minor": 5
}
