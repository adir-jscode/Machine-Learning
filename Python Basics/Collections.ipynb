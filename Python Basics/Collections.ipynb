{
 "cells": [
  {
   "cell_type": "code",
   "execution_count": 1,
   "id": "69503a50",
   "metadata": {},
   "outputs": [
    {
     "name": "stdout",
     "output_type": "stream",
     "text": [
      "['a', 'b', 1, 2]\n",
      "(3.3, 4.7, 'c', 'd')\n"
     ]
    }
   ],
   "source": [
    "l = ['a','b',1,2]\n",
    "t = (3.3,4.7,'c','d')\n",
    "\n",
    "print(l)\n",
    "print(t)"
   ]
  },
  {
   "cell_type": "code",
   "execution_count": 2,
   "id": "10371d28",
   "metadata": {},
   "outputs": [
    {
     "name": "stdout",
     "output_type": "stream",
     "text": [
      "1 4.7 4.7\n"
     ]
    }
   ],
   "source": [
    "print(l[2], t[1],t[-3])"
   ]
  },
  {
   "cell_type": "code",
   "execution_count": 3,
   "id": "847eb07e",
   "metadata": {},
   "outputs": [
    {
     "name": "stdout",
     "output_type": "stream",
     "text": [
      "3.3\n",
      "4.7\n",
      "c\n",
      "d\n"
     ]
    }
   ],
   "source": [
    "for i in t:\n",
    "    print(i)"
   ]
  },
  {
   "cell_type": "code",
   "execution_count": 4,
   "id": "b3944561",
   "metadata": {},
   "outputs": [
    {
     "name": "stdout",
     "output_type": "stream",
     "text": [
      "0:a\n",
      "1:b\n",
      "2:1\n",
      "3:2\n"
     ]
    }
   ],
   "source": [
    "for i,v in enumerate(l):\n",
    "    print(f\"{i}:{v}\")"
   ]
  },
  {
   "cell_type": "code",
   "execution_count": 5,
   "id": "f6013f7f",
   "metadata": {},
   "outputs": [
    {
     "name": "stdout",
     "output_type": "stream",
     "text": [
      "['a', 'b', 'c', 'c']\n"
     ]
    }
   ],
   "source": [
    "# Append\n",
    "c = []\n",
    "c.append('a')\n",
    "c.append('b')\n",
    "c.append('c')\n",
    "c.append('c')\n",
    "print(c)"
   ]
  },
  {
   "cell_type": "code",
   "execution_count": 9,
   "id": "72ed5672",
   "metadata": {},
   "outputs": [
    {
     "name": "stdout",
     "output_type": "stream",
     "text": [
      "['a', 'b', 'c', 'c']\n",
      "['a0', 'a', 'b', 'c', 'c']\n",
      "['a0', 'a', 'c', 'c']\n",
      "['a', 'c', 'c']\n"
     ]
    }
   ],
   "source": [
    "# Insert\n",
    "c = ['a', 'b', 'c', 'c']\n",
    "print(c)\n",
    "c.insert(0,'a0')\n",
    "print(c)\n",
    "\n",
    "# Remove\n",
    "c.remove('b')  # remove value\n",
    "print(c)\n",
    "\n",
    "# Remove at index\n",
    "\n",
    "del c[0]\n",
    "print(c)"
   ]
  },
  {
   "cell_type": "code",
   "execution_count": 10,
   "id": "6f38540e",
   "metadata": {},
   "outputs": [
    {
     "name": "stdout",
     "output_type": "stream",
     "text": [
      "[['a', 'b', 'c'], [1, 2, 3, 4, 5, 6], ['One', 'Two']]\n"
     ]
    }
   ],
   "source": [
    "listOfLists = [\n",
    "    ['a','b','c'],\n",
    "    [1,2,3,4,5,6],\n",
    "    [\"One\",\"Two\"]\n",
    "    \n",
    "]\n",
    "print(listOfLists)"
   ]
  }
 ],
 "metadata": {
  "kernelspec": {
   "display_name": "alleys",
   "language": "python",
   "name": "alleys"
  },
  "language_info": {
   "codemirror_mode": {
    "name": "ipython",
    "version": 3
   },
   "file_extension": ".py",
   "mimetype": "text/x-python",
   "name": "python",
   "nbconvert_exporter": "python",
   "pygments_lexer": "ipython3",
   "version": "3.8.20"
  }
 },
 "nbformat": 4,
 "nbformat_minor": 5
}
