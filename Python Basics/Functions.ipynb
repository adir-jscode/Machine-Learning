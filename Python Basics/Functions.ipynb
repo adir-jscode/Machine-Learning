{
 "cells": [
  {
   "cell_type": "markdown",
   "id": "8451c76d",
   "metadata": {},
   "source": [
    "Map, Filter, Lambda & Reduce"
   ]
  },
  {
   "cell_type": "code",
   "execution_count": 1,
   "id": "bbb6f1d9",
   "metadata": {},
   "outputs": [],
   "source": [
    "def sign(a):\n",
    "    if a > 0:\n",
    "        return 'positive'\n",
    "    elif a < 0:\n",
    "        return 'negative'\n",
    "    else:\n",
    "        return 'zero'"
   ]
  },
  {
   "cell_type": "code",
   "execution_count": 2,
   "id": "81a0c811",
   "metadata": {},
   "outputs": [
    {
     "name": "stdout",
     "output_type": "stream",
     "text": [
      "5 positive\n",
      "4 positive\n",
      "3 positive\n",
      "2 positive\n",
      "1 positive\n",
      "0 zero\n",
      "-1 negative\n",
      "-2 negative\n",
      "-3 negative\n",
      "-4 negative\n",
      "-5 negative\n"
     ]
    }
   ],
   "source": [
    "for i in range(5,-6,-1):\n",
    "    # (start,stop,step)\n",
    "    print(i,sign(i))\n"
   ]
  },
  {
   "cell_type": "markdown",
   "id": "6ca1715a",
   "metadata": {},
   "source": [
    "Map"
   ]
  },
  {
   "cell_type": "code",
   "execution_count": 3,
   "id": "c375af43",
   "metadata": {},
   "outputs": [],
   "source": [
    "def addition(x):\n",
    "    return x+x"
   ]
  },
  {
   "cell_type": "code",
   "execution_count": 5,
   "id": "9d52d5ba",
   "metadata": {},
   "outputs": [
    {
     "name": "stdout",
     "output_type": "stream",
     "text": [
      "<map object at 0x0000024CB536ED00>\n",
      "[2, 4, 6, 8, 10, 12]\n"
     ]
    }
   ],
   "source": [
    "nums = [1,2,3,4,5,6]\n",
    "res = map(addition,nums) # (function,iterable)\n",
    "print(res)\n",
    "print(list(res))"
   ]
  },
  {
   "cell_type": "code",
   "execution_count": 12,
   "id": "a886d974",
   "metadata": {},
   "outputs": [],
   "source": [
    "def pre_process(str):\n",
    "    t = str.strip()\n",
    "    return t[0].upper()+t[1:]"
   ]
  },
  {
   "cell_type": "code",
   "execution_count": 13,
   "id": "57f31eb8",
   "metadata": {},
   "outputs": [
    {
     "name": "stdout",
     "output_type": "stream",
     "text": [
      "Helloooo\n"
     ]
    }
   ],
   "source": [
    "print(pre_process(\"     helloooo    \"))"
   ]
  },
  {
   "cell_type": "code",
   "execution_count": 16,
   "id": "b2abb1ce",
   "metadata": {},
   "outputs": [
    {
     "name": "stdout",
     "output_type": "stream",
     "text": [
      "['Apple', 'Pear', 'Orange', 'Mango', 'Pine apple']\n"
     ]
    }
   ],
   "source": [
    "l1 = ['   apple  ', 'pear ', ' orange', 'mango', 'pine apple  ']\n",
    "mapped = map(pre_process,l1)\n",
    "print(list(mapped))"
   ]
  },
  {
   "cell_type": "code",
   "execution_count": 17,
   "id": "6417ee6b",
   "metadata": {},
   "outputs": [
    {
     "name": "stdout",
     "output_type": "stream",
     "text": [
      "['Apple', 'Pear', 'Orange', 'Mango', 'Pine apple']\n"
     ]
    }
   ],
   "source": [
    "l2 = [pre_process(x) for x in l1]\n",
    "print(l2)"
   ]
  },
  {
   "cell_type": "markdown",
   "id": "34a4c62a",
   "metadata": {},
   "source": [
    "Filter"
   ]
  },
  {
   "cell_type": "code",
   "execution_count": 19,
   "id": "bc2ce669",
   "metadata": {},
   "outputs": [
    {
     "name": "stdout",
     "output_type": "stream",
     "text": [
      "[10, 20]\n"
     ]
    }
   ],
   "source": [
    "def greater_than_five(x):\n",
    "    return x > 5\n",
    "\n",
    "l = [ 1, 10, 20, 3, -2, 0]\n",
    "l2 = list(filter(greater_than_five,l)) \n",
    "print(l2)"
   ]
  },
  {
   "cell_type": "markdown",
   "id": "33965206",
   "metadata": {},
   "source": [
    "Lambda"
   ]
  },
  {
   "cell_type": "code",
   "execution_count": 22,
   "id": "3a96d7d5",
   "metadata": {},
   "outputs": [
    {
     "name": "stdout",
     "output_type": "stream",
     "text": [
      "[2, 20, 40, 6, -4, 0]\n"
     ]
    }
   ],
   "source": [
    "nums = [ 1, 10, 20, 3, -2, 0]\n",
    "print(list(map(lambda a:a+a,nums)))"
   ]
  },
  {
   "cell_type": "code",
   "execution_count": 25,
   "id": "db2580b3",
   "metadata": {},
   "outputs": [
    {
     "name": "stdout",
     "output_type": "stream",
     "text": [
      "[10, 20]\n"
     ]
    }
   ],
   "source": [
    "print(list(filter(lambda a:a>3,nums)))#returns true,false then work on array"
   ]
  },
  {
   "cell_type": "code",
   "execution_count": 24,
   "id": "e8e22566",
   "metadata": {},
   "outputs": [
    {
     "name": "stdout",
     "output_type": "stream",
     "text": [
      "[False, True, True, False, False, False]\n"
     ]
    }
   ],
   "source": [
    "print(list(map(lambda a:a>3,nums)))"
   ]
  },
  {
   "cell_type": "markdown",
   "id": "7306fb86",
   "metadata": {},
   "source": [
    "Reduce"
   ]
  },
  {
   "cell_type": "code",
   "execution_count": 27,
   "id": "8576a2d3",
   "metadata": {},
   "outputs": [
    {
     "name": "stdout",
     "output_type": "stream",
     "text": [
      "32\n"
     ]
    }
   ],
   "source": [
    "from functools import reduce \n",
    "\n",
    "l = [ 1, 10, 20, 3, -2, 0]\n",
    "result = reduce(lambda x,y:x+y,l)\n",
    "print(result) # reduce returns a single value"
   ]
  }
 ],
 "metadata": {
  "kernelspec": {
   "display_name": "alleys",
   "language": "python",
   "name": "alleys"
  },
  "language_info": {
   "codemirror_mode": {
    "name": "ipython",
    "version": 3
   },
   "file_extension": ".py",
   "mimetype": "text/x-python",
   "name": "python",
   "nbconvert_exporter": "python",
   "pygments_lexer": "ipython3",
   "version": "3.8.20"
  }
 },
 "nbformat": 4,
 "nbformat_minor": 5
}
